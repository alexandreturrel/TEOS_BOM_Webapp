{
 "cells": [
  {
   "cell_type": "markdown",
   "metadata": {},
   "source": [
    "# Init"
   ]
  },
  {
   "cell_type": "code",
   "execution_count": 1,
   "metadata": {},
   "outputs": [],
   "source": [
    "import pandas as pd\n",
    "import string\n",
    "import re"
   ]
  },
  {
   "cell_type": "code",
   "execution_count": 2,
   "metadata": {},
   "outputs": [],
   "source": [
    "originalDB = 'DB BOM.xlsx'\n",
    "customStringPL = ''\n",
    "customStringTemplates = ''\n",
    "customStringBundles = ''"
   ]
  },
  {
   "cell_type": "markdown",
   "metadata": {},
   "source": [
    "# Pricelist"
   ]
  },
  {
   "cell_type": "code",
   "execution_count": null,
   "metadata": {},
   "outputs": [],
   "source": [
    "df = pd.read_excel(originalDB, sheet_name=\"Database\")"
   ]
  },
  {
   "cell_type": "code",
   "execution_count": null,
   "metadata": {},
   "outputs": [],
   "source": [
    "df.columns"
   ]
  },
  {
   "cell_type": "code",
   "execution_count": null,
   "metadata": {},
   "outputs": [],
   "source": [
    "df.rename(columns={ df.columns[14]: \"TwentyFourSeven\" }, inplace = True)\n",
    "df.rename(columns={ \"Category\" : \"EU_Category\",\n",
    "                    \"BuyPrice\" : \"BuyPrice\", \n",
    "                    \"ListPrice\": \"UnitPrice\", \n",
    "                    \"IP Control\": \"IPControl\",\n",
    "                    \"RS232\": \"Rs232\",\n",
    "                    \"Professional Mode\" : \"Professional\",\n",
    "                    \"Compatible Models\": \"CompatibleModels\",\n",
    "                    \"image name\": \"ImagePath\",\n",
    "                    \"link to datasheet\" : \"LinkToDatasheet\",\n",
    "                    \"link name to datasheet\": \"LinkNameToDatasheet\",\n",
    "                  }, inplace = True)\n",
    "df.columns"
   ]
  },
  {
   "cell_type": "code",
   "execution_count": null,
   "metadata": {},
   "outputs": [],
   "source": [
    "customStringPL = \"\"\n",
    "for j in range(df.index.size):\n",
    "    customStringPL += \"new PricelistItem { Status = \\\"1\\\", \"\n",
    "    for i in range(df.columns.size):\n",
    "        if(str(df.iloc[j][i])!=\"Yes\"):\n",
    "            if(i == 6 or i ==7 ):\n",
    "                customStringPL += str(df.columns[i]) + \" = \" + str(df.iloc[j][i])+ \", \"\n",
    "            else:\n",
    "                customStringPL += str(df.columns[i]) + \" = \" + \"\\\"\" + str(df.iloc[j][i])+ \"\\\", \"\n",
    "        else:\n",
    "            customStringPL += str(df.columns[i]) + \" = \" + \"\\\"1\\\"\" + \", \"\n",
    "        \n",
    "    if (df.iloc[j]['Tag'] == \"Accessories\"):\n",
    "        customStringPL += \"CategoryID=16\"\n",
    "    if (df.iloc[j]['Tag'] == \"Additional Solution Services\"):\n",
    "        customStringPL += \"CategoryID=10\"\n",
    "    if (df.iloc[j]['Tag'] == \"Default\"):\n",
    "        if(str(df.iloc[j]['Reference']).startswith('TEC')):\n",
    "            customStringPL += \"CategoryID=2\"\n",
    "        elif(str(df.iloc[j]['Reference']).startswith('FW')):\n",
    "            customStringPL += \"CategoryID=1\"\n",
    "        else:\n",
    "            customStringPL += \"CategoryID=17\"\n",
    "    if (df.iloc[j]['Tag'] == \"Displays\"):\n",
    "        customStringPL += \"CategoryID=1\"\n",
    "    if (df.iloc[j]['Tag'] == \"Sensor\"):\n",
    "        customStringPL += \"CategoryID=4\"\n",
    "    if (df.iloc[j]['Tag'] == \"TDMLicence\"):\n",
    "        customStringPL += \"CategoryID=6\"\n",
    "    if (df.iloc[j]['Tag'] == \"TEOSCorporateSolutions\"):\n",
    "        if(str(df.iloc[j]['Reference']).startswith('TEB-RFID')):\n",
    "            customStringPL += \"CategoryID=14\"\n",
    "        else:\n",
    "             customStringPL += \"CategoryID=17\"\n",
    "    if (df.iloc[j]['Tag'] == \"TEOSLicence\"):\n",
    "        customStringPL += \"CategoryID=5\"\n",
    "    if (df.iloc[j]['Tag'] == \"Tablets\"):\n",
    "        if(str(df.iloc[j]['Reference']).startswith('TEP')):\n",
    "             customStringPL += \"CategoryID=2\"\n",
    "        else:\n",
    "             customStringPL += \"CategoryID=3\"\n",
    "    if (df.iloc[j]['Tag'] == \"TEOSManageTraining\"):\n",
    "        customStringPL += \"CategoryID=9\"\n",
    "    if (df.iloc[j]['Tag'] == \"Totemskiosks\"):\n",
    "        customStringPL += \"CategoryID=13\"\n",
    "    if (df.iloc[j]['Tag'] == \"TouchOverlays\"):\n",
    "        if(str(df.iloc[j]['Reference']).startswith('FC') or str(df.iloc[j]['Reference']).startswith('CC')):\n",
    "            customStringPL += \"CategoryID=11\"\n",
    "        else:\n",
    "            customStringPL += \"CategoryID=12\"\n",
    "    if (df.iloc[j]['Tag'] == \"WarrantyExtension\"):\n",
    "        customStringPL += \"CategoryID=8\"\n",
    "    customStringPL += \"},\"\n",
    "customStringPL"
   ]
  },
  {
   "cell_type": "raw",
   "metadata": {},
   "source": [
    "what to edit in notepad++:\n",
    "    },    ->    },\\n\n",
    "    .0    ->    none\n",
    "    \"\",   ->    \\\"\",\n",
    "    \\'\\'\" ->    \\\"\"\n",
    "    \"nan\" ->    \"\""
   ]
  },
  {
   "cell_type": "markdown",
   "metadata": {},
   "source": [
    "# Templates"
   ]
  },
  {
   "cell_type": "code",
   "execution_count": 3,
   "metadata": {},
   "outputs": [],
   "source": [
    "df = pd.read_excel(originalDB, sheet_name=\"Templates\")"
   ]
  },
  {
   "cell_type": "code",
   "execution_count": 4,
   "metadata": {},
   "outputs": [
    {
     "data": {
      "text/plain": [
       "Index(['TemplateName', 'Workplace Solution', 'Description', 'Rank',\n",
       "       'ImagePath', 'RawItems'],\n",
       "      dtype='object')"
      ]
     },
     "execution_count": 4,
     "metadata": {},
     "output_type": "execute_result"
    }
   ],
   "source": [
    "df.columns\n",
    "df.rename(columns={\n",
    "    \"Title\" : \"TemplateName\",\n",
    "    \"items (separated with '|')\" : \"RawItems\"\n",
    "}, inplace = True)\n",
    "df.columns"
   ]
  },
  {
   "cell_type": "code",
   "execution_count": 5,
   "metadata": {},
   "outputs": [
    {
     "data": {
      "text/plain": [
       "'new Template { TemplateName = \"TEOS Manage Server\", Description = \"TEOS Manage Server license and 4h remote service\", ImagePath = \"SRV250\", RawItems = \"TEM-SRV250|PSP.CET.REMOTE.2|PSP.CET.REMOTE.2\", Rank = 2, Items = new List<PricelistItem>(), Price = 0},new Template { TemplateName = \"TEOS Desk Sensor\", Description = \"Desk sensor for flex office \", ImagePath = \"HuddleRoom\", RawItems = \"TES-5DO\", Rank = 1, PurposeID = 15, Items = new List<PricelistItem>(), Price = 0},new Template { TemplateName = \"TEOS Occupancy Sensor\", Description = \"Occupancy Meeting Room Sensor (including presence, temperature and humidy sensor)\", ImagePath = \"MediumRoom\", RawItems = \"TES-5MRO\", Rank = 2, PurposeID = 15, Items = new List<PricelistItem>(), Price = 0},new Template { TemplateName = \"TEOS Confort Sensor\", Description = \"Comfort Sensor (including CO2, temperature, humidity)\", ImagePath = \"LargeRoom\", RawItems = \"TES-10MRC\", Rank = 3, PurposeID = 15, Items = new List<PricelistItem>(), Price = 0},new Template { TemplateName = \"TEOS Sensor License (20 Sensors for 1 Year)\", Description = \"TEOS Sensor License (20 Sensors for 1 Year)\", ImagePath = \"nan\", RawItems = \"TEM-BU20.1Y\", Rank = 2, PurposeID = 15, Items = new List<PricelistItem>(), Price = 0},new Template { TemplateName = \"TEOS Sensor License (20 Sensors for 3 Years)\", Description = \"TEOS Sensor License (20 Sensors for 3 Years)\", ImagePath = \"nan\", RawItems = \"TEM-BU20.3Y\", Rank = 2, PurposeID = 15, Items = new List<PricelistItem>(), Price = 0},new Template { TemplateName = \"TEOS Sensor License (20 Sensors for 5 Years)\", Description = \"TEOS Sensor License (20 Sensors for 5 Years)\", ImagePath = \"nan\", RawItems = \"TEM-BU20.5Y\", Rank = 2, PurposeID = 15, Items = new List<PricelistItem>(), Price = 0},new Template { TemplateName = \"TEOS Sensor License (100 Sensors for 1 Year)\", Description = \"TEOS Sensor License (100 Sensors for 1 Year)\", ImagePath = \"nan\", RawItems = \"TEM-BU20.1Y|TEM-BU20.1Y|TEM-BU20.1Y|TEM-BU20.1Y|TEM-BU20.1Y\", Rank = 3, PurposeID = 15, Items = new List<PricelistItem>(), Price = 0},new Template { TemplateName = \"TEOS Sensor License (100 Sensors for 3 Years)\", Description = \"TEOS Sensor License (100 Sensors for 3 Years)\", ImagePath = \"nan\", RawItems = \"TEM-BU20.3Y|TEM-BU20.3Y|TEM-BU20.3Y|TEM-BU20.3Y|TEM-BU20.3Y\", Rank = 3, PurposeID = 15, Items = new List<PricelistItem>(), Price = 0},new Template { TemplateName = \"TEOS Sensor License (100 Sensors for 5 Years)\", Description = \"TEOS Sensor License (100 Sensors for 5 Years)\", ImagePath = \"nan\", RawItems = \"TEM-BU20.5Y|TEM-BU20.5Y|TEM-BU20.5Y|TEM-BU20.5Y|TEM-BU20.5Y\", Rank = 3, PurposeID = 15, Items = new List<PricelistItem>(), Price = 0},new Template { TemplateName = \"TEOS Mobile License (20 Employees for 1 Year)\", Description = \"TEOS Mobile License (20 Employees for 1 Year)\", ImagePath = \"nan\", RawItems = \"TEM-UL20.1Y\", Rank = 2, PurposeID = 14, Items = new List<PricelistItem>(), Price = 0},new Template { TemplateName = \"TEOS Mobile License (20 Employees for 3 Years)\", Description = \"TEOS Mobile License (20 Employees for 3 Years)\", ImagePath = \"nan\", RawItems = \"TEM-UL20.3Y\", Rank = 2, PurposeID = 14, Items = new List<PricelistItem>(), Price = 0},new Template { TemplateName = \"TEOS Mobile License (20 Employees for 5 Year)\", Description = \"TEOS Mobile License (20 Employees for 5 Year)\", ImagePath = \"nan\", RawItems = \"TEM-UL20.5Y\", Rank = 2, PurposeID = 14, Items = new List<PricelistItem>(), Price = 0},new Template { TemplateName = \"TEOS Mobile License (100 Employees for 1 Year)\", Description = \"TEOS Mobile License (100 Employees for 1 Year)\", ImagePath = \"nan\", RawItems = \"TEM-UL20.1Y|TEM-UL20.1Y|TEM-UL20.1Y|TEM-UL20.1Y|TEM-UL20.1Y\", Rank = 2, PurposeID = 14, Items = new List<PricelistItem>(), Price = 0},new Template { TemplateName = \"TEOS Mobile License (100 Employees for 3 Years)\", Description = \"TEOS Mobile License (100 Employees for 3 Years)\", ImagePath = \"nan\", RawItems = \"TEM-UL20.3Y|TEM-UL20.3Y|TEM-UL20.3Y|TEM-UL20.3Y|TEM-UL20.3Y\", Rank = 2, PurposeID = 14, Items = new List<PricelistItem>(), Price = 0},new Template { TemplateName = \"TEOS Mobile License (100 Employees for 5 Year)\", Description = \"TEOS Mobile License (100 Employees for 5 Year)\", ImagePath = \"nan\", RawItems = \"TEM-UL20.5Y|TEM-UL20.5Y|TEM-UL20.5Y|TEM-UL20.5Y|TEM-UL20.5Y\", Rank = 2, PurposeID = 14, Items = new List<PricelistItem>(), Price = 0},new Template { TemplateName = \"7 inch Meeting Room Control\", Description = \"7 inch TEOS Tablet with TEOS Table license\", ImagePath = \"MediumRoom\", RawItems = \"TEB-7XPL|TEM-TA10\", Rank = 1, PurposeID = 10, Items = new List<PricelistItem>(), Price = 0},new Template { TemplateName = \"10 inch Meeting Room Control\", Description = \"10 inch TEOS Tablet with TEOS Table license\", ImagePath = \"MediumRoom\", RawItems = \"TEB-10XPL|TEM-TA10\", Rank = 2, PurposeID = 10, Items = new List<PricelistItem>(), Price = 0},new Template { TemplateName = \"15 inch Meeting Room Control\", Description = \"15 inch TEOS Tablet with TEOS Table license\", ImagePath = \"LargeRoom\", RawItems = \"TEB-15XP|TEM-TA10\", Rank = 3, PurposeID = 10, Items = new List<PricelistItem>(), Price = 0},new Template { TemplateName = \"22 inch Meeting Room Control\", Description = \"22 inch TEOS Tablet with TEOS Table license\", ImagePath = \"LargeRoom\", RawItems = \"TEB-22XP|TEM-TA10\", Rank = 3, PurposeID = 10, Items = new List<PricelistItem>(), Price = 0},new Template { TemplateName = \"15 inch Reception\", Description = \"15 inch TEOS Tablet with TEOS Table license\", ImagePath = \"VisitorSignIn\", RawItems = \"TEB-15XP|TEM-TA10\", Rank = 1, PurposeID = 2, Items = new List<PricelistItem>(), Price = 0},new Template { TemplateName = \"22 inch Reception\", Description = \"22 inch TEOS Tablet with TEOS Table license\", ImagePath = \"VisitorSignIn\", RawItems = \"TEB-22XP|TEM-TA10|WM-75\", Rank = 2, PurposeID = 2, Items = new List<PricelistItem>(), Price = 0},new Template { TemplateName = \"7 inch Meeting Room Booking\", Description = \"7 inch TEOS Tablet with TEOS Table license\", ImagePath = \"RoomBooking\", RawItems = \"TEB-7XPL|TEM-TA10\", Rank = 1, PurposeID = 7, Items = new List<PricelistItem>(), Price = 0},new Template { TemplateName = \"10 inch Meeting Room Booking\", Description = \"10 inch TEOS Tablet with TEOS Table license\", ImagePath = \"RoomBooking\", RawItems = \"TEB-10XPL|TEM-TA10\", Rank = 2, PurposeID = 7, Items = new List<PricelistItem>(), Price = 0},new Template { TemplateName = \"15 inch Meeting Room Booking\", Description = \"15 inch TEOS Tablet with TEOS Table license\", ImagePath = \"RoomBooking\", RawItems = \"TEB-15XP|TEM-TA10\", Rank = 3, PurposeID = 7, Items = new List<PricelistItem>(), Price = 0},new Template { TemplateName = \"43 inch Meeting Room Control\", Description = \"43 inch BRAVIA with TEOS Control license\", ImagePath = \"HuddleRoom\", RawItems = \"FW-43BZ35F/TM|TEM-CO10\", Rank = 1, PurposeID = 10, Items = new List<PricelistItem>(), Price = 0},new Template { TemplateName = \"49 inch Meeting Room Control\", Description = \"49 inch BRAVIA with TEOS Control license\", ImagePath = \"HuddleRoom\", RawItems = \"FW-49BZ35F/TM|TEM-CO10\", Rank = 1, PurposeID = 10, Items = new List<PricelistItem>(), Price = 0},new Template { TemplateName = \"55 inch Meeting Room Control\", Description = \"55 inch BRAVIA with TEOS Control license\", ImagePath = \"MediumRoom\", RawItems = \"FW-55BZ35F/TM|TEM-CO10\", Rank = 2, PurposeID = 10, Items = new List<PricelistItem>(), Price = 0},new Template { TemplateName = \"65 inch Meeting Room Control\", Description = \"65 inch BRAVIA with TEOS Control license\", ImagePath = \"MediumRoom\", RawItems = \"FW-65BZ35F/TM|TEM-CO10\", Rank = 2, PurposeID = 10, Items = new List<PricelistItem>(), Price = 0},new Template { TemplateName = \"75 inch Meeting Room Control\", Description = \"75 inch BRAVIA with TEOS Control license\", ImagePath = \"LargeRoom\", RawItems = \"FW-75BZ35F/TM|TEM-CO10\", Rank = 3, PurposeID = 10, Items = new List<PricelistItem>(), Price = 0},new Template { TemplateName = \"85 inch Meeting Room Control\", Description = \"85 inch BRAVIA with TEOS Control license\", ImagePath = \"LargeRoom\", RawItems = \"FW-85BZ35F/TM|TEM-CO10\", Rank = 3, PurposeID = 10, Items = new List<PricelistItem>(), Price = 0},new Template { TemplateName = \"98 inch Meeting Room Control\", Description = \"98 inch BRAVIA with TEOS Control license\", ImagePath = \"LargeRoom\", RawItems = \"FW-98BZ35F/TM|TEM-CO10\", Rank = 3, PurposeID = 10, Items = new List<PricelistItem>(), Price = 0},new Template { TemplateName = \"43 inch Meeting Room without Mirroring\", Description = \"43 inch BRAVIA with only TEOS Meeting Room License\", ImagePath = \"HuddleRoom\", RawItems = \"FW-43BZ35F/TM|TEM-MR10\", Rank = 1, PurposeID = 11, Items = new List<PricelistItem>(), Price = 0},new Template { TemplateName = \"49 inch Meeting Room without Mirroring\", Description = \"49 inch BRAVIA with only TEOS Meeting Room License\", ImagePath = \"HuddleRoom\", RawItems = \"FW-49BZ35F/TM|TEM-MR10\", Rank = 1, PurposeID = 11, Items = new List<PricelistItem>(), Price = 0},new Template { TemplateName = \"55 inch Meeting Room without Mirroring\", Description = \"55 inch BRAVIA with only TEOS Meeting Room License\", ImagePath = \"MediumRoom\", RawItems = \"FW-55BZ35F/TM|TEM-MR10\", Rank = 2, PurposeID = 11, Items = new List<PricelistItem>(), Price = 0},new Template { TemplateName = \"65 inch Meeting Room without Mirroring\", Description = \"65 inch BRAVIA with only TEOS Meeting Room License\", ImagePath = \"MediumRoom\", RawItems = \"FW-65BZ35F/TM|TEM-MR10\", Rank = 2, PurposeID = 11, Items = new List<PricelistItem>(), Price = 0},new Template { TemplateName = \"75 inch Meeting Room without Mirroring\", Description = \"75 inch BRAVIA with only TEOS Meeting Room License\", ImagePath = \"LargeRoom\", RawItems = \"FW-75BZ35F/TM|TEM-MR10\", Rank = 3, PurposeID = 11, Items = new List<PricelistItem>(), Price = 0},new Template { TemplateName = \"85 inch Meeting Room without Mirroring\", Description = \"85 inch BRAVIA with only TEOS Meeting Room License\", ImagePath = \"LargeRoom\", RawItems = \"FW-85BZ35F/TM|TEM-MR10\", Rank = 3, PurposeID = 11, Items = new List<PricelistItem>(), Price = 0},new Template { TemplateName = \"98 inch Meeting Room without Mirroring\", Description = \"98 inch BRAVIA with only TEOS Meeting Room License\", ImagePath = \"LargeRoom\", RawItems = \"FW-98BZ35F/TM|TEM-MR10\", Rank = 3, PurposeID = 11, Items = new List<PricelistItem>(), Price = 0},new Template { TemplateName = \"43 inch Meeting Room with only Mirroring\", Description = \"43 inch BRAVIA with only TEOS Connect license\", ImagePath = \"HuddleRoom\", RawItems = \"FW-43BZ35F/TC\", Rank = 1, PurposeID = 12, Items = new List<PricelistItem>(), Price = 0},new Template { TemplateName = \"49 inch Meeting Room with only Mirroring\", Description = \"49 inch BRAVIA with only TEOS Connect license\", ImagePath = \"HuddleRoom\", RawItems = \"FW-49BZ35F/TC\", Rank = 1, PurposeID = 12, Items = new List<PricelistItem>(), Price = 0},new Template { TemplateName = \"55 inch Meeting Room with only Mirroring\", Description = \"55 inch BRAVIA with only TEOS Connect license\", ImagePath = \"MediumRoom\", RawItems = \"FW-55BZ35F/TC\", Rank = 2, PurposeID = 12, Items = new List<PricelistItem>(), Price = 0},new Template { TemplateName = \"65 inch Meeting Room with only Mirroring\", Description = \"65 inch BRAVIA with only TEOS Connect license\", ImagePath = \"MediumRoom\", RawItems = \"FW-65BZ35F/TC\", Rank = 2, PurposeID = 12, Items = new List<PricelistItem>(), Price = 0},new Template { TemplateName = \"75 inch Meeting Room with only Mirroring\", Description = \"75 inch BRAVIA with only TEOS Connect license\", ImagePath = \"LargeRoom\", RawItems = \"FW-75BZ35F/TC\", Rank = 3, PurposeID = 12, Items = new List<PricelistItem>(), Price = 0},new Template { TemplateName = \"85 inch Meeting Room with only Mirroring\", Description = \"85 inch BRAVIA with only TEOS Connect license\", ImagePath = \"LargeRoom\", RawItems = \"FW-85BZ35F/TC\", Rank = 3, PurposeID = 12, Items = new List<PricelistItem>(), Price = 0},new Template { TemplateName = \"98 inch Meeting Room with only Mirroring\", Description = \"98 inch BRAVIA with only TEOS Connect license\", ImagePath = \"LargeRoom\", RawItems = \"FW-98BZ35F/TC\", Rank = 3, PurposeID = 12, Items = new List<PricelistItem>(), Price = 0},new Template { TemplateName = \"43 inch Meeting Room with Mirroring\", Description = \"43 inch BRAVIA with TEOS Meeting Room License and TEOS Connect License\", ImagePath = \"HuddleRoom\", RawItems = \"FW-43BZ35F/TM|TEM-MR10|TEC-SC100\", Rank = 1, PurposeID = 13, Items = new List<PricelistItem>(), Price = 0},new Template { TemplateName = \"49 inch Meeting Room with Mirroring\", Description = \"49 inch BRAVIA with TEOS Meeting Room License and TEOS Connect License\", ImagePath = \"HuddleRoom\", RawItems = \"FW-49BZ35F/TM|TEM-MR10|TEC-SC100\", Rank = 1, PurposeID = 13, Items = new List<PricelistItem>(), Price = 0},new Template { TemplateName = \"55 inch Meeting Room with Mirroring\", Description = \"55 inch BRAVIA with TEOS Meeting Room License and TEOS Connect License\", ImagePath = \"MediumRoom\", RawItems = \"FW-55BZ35F/TM|TEM-MR10|TEC-SC100\", Rank = 2, PurposeID = 13, Items = new List<PricelistItem>(), Price = 0},new Template { TemplateName = \"65 inch Meeting Room with Mirroring\", Description = \"65 inch BRAVIA with TEOS Meeting Room License and TEOS Connect License\", ImagePath = \"MediumRoom\", RawItems = \"FW-65BZ35F/TM|TEM-MR10|TEC-SC100\", Rank = 2, PurposeID = 13, Items = new List<PricelistItem>(), Price = 0},new Template { TemplateName = \"75 inch Meeting Room with Mirroring\", Description = \"75 inch BRAVIA with TEOS Meeting Room License and TEOS Connect License\", ImagePath = \"LargeRoom\", RawItems = \"FW-75BZ35F/TM|TEM-MR10|TEC-SC100\", Rank = 3, PurposeID = 13, Items = new List<PricelistItem>(), Price = 0},new Template { TemplateName = \"85 inch Meeting Room with Mirroring\", Description = \"85 inch BRAVIA with TEOS Meeting Room License and TEOS Connect License\", ImagePath = \"LargeRoom\", RawItems = \"FW-85BZ35F/TM|TEM-MR10|TEC-SC100\", Rank = 3, PurposeID = 13, Items = new List<PricelistItem>(), Price = 0},new Template { TemplateName = \"98 inch Meeting Room with Mirroring\", Description = \"98 inch BRAVIA with TEOS Meeting Room License and TEOS Connect License\", ImagePath = \"LargeRoom\", RawItems = \"FW-98BZ35F/TM|TEM-MR10|TEC-SC100\", Rank = 3, PurposeID = 13, Items = new List<PricelistItem>(), Price = 0},new Template { TemplateName = \"43 inch Digital Signage\", Description = \"43 inch BRAVIA with TEOS Signage license\", ImagePath = \"DigitalSignage\", RawItems = \"FW-43BZ35F/TM|TEM-DS10\", Rank = 1, PurposeID = 3, Items = new List<PricelistItem>(), Price = 0},new Template { TemplateName = \"49 inch Digital Signage\", Description = \"49 inch BRAVIA with TEOS Signage license\", ImagePath = \"DigitalSignage\", RawItems = \"FW-49BZ35F/TM|TEM-DS10\", Rank = 1, PurposeID = 3, Items = new List<PricelistItem>(), Price = 0},new Template { TemplateName = \"55 inch Digital Signage\", Description = \"55 inch BRAVIA with TEOS Signage license\", ImagePath = \"DigitalSignage\", RawItems = \"FW-55BZ35F/TM|TEM-DS10\", Rank = 2, PurposeID = 3, Items = new List<PricelistItem>(), Price = 0},new Template { TemplateName = \"65 inch Digital Signage\", Description = \"65 inch BRAVIA with TEOS Signage license\", ImagePath = \"DigitalSignage\", RawItems = \"FW-65BZ35F/TM|TEM-DS10\", Rank = 2, PurposeID = 3, Items = new List<PricelistItem>(), Price = 0},new Template { TemplateName = \"75 inch Digital Signage\", Description = \"75 inch BRAVIA with TEOS Signage license\", ImagePath = \"DigitalSignage\", RawItems = \"FW-75BZ35F/TM|TEM-DS10\", Rank = 3, PurposeID = 3, Items = new List<PricelistItem>(), Price = 0},new Template { TemplateName = \"85 inch Digital Signage\", Description = \"85 inch BRAVIA with TEOS Signage license\", ImagePath = \"DigitalSignage\", RawItems = \"FW-85BZ35F/TM|TEM-DS10\", Rank = 3, PurposeID = 3, Items = new List<PricelistItem>(), Price = 0},new Template { TemplateName = \"98 inch Digital Signage\", Description = \"98 inch BRAVIA with TEOS Signage license\", ImagePath = \"DigitalSignage\", RawItems = \"FW-98BZ35F/TM|TEM-DS10\", Rank = 3, PurposeID = 3, Items = new List<PricelistItem>(), Price = 0},new Template { TemplateName = \"43 inch Corporate TV\", Description = \"43 inch BRAVIA with TEOS Signage license\", ImagePath = \"DigitalSignage\", RawItems = \"FW-43BZ35F/TM|TEM-DS10\", Rank = 1, PurposeID = 4, Items = new List<PricelistItem>(), Price = 0},new Template { TemplateName = \"49 inch Corporate TV\", Description = \"49 inch BRAVIA with TEOS Signage license\", ImagePath = \"DigitalSignage\", RawItems = \"FW-49BZ35F/TM|TEM-DS10\", Rank = 1, PurposeID = 4, Items = new List<PricelistItem>(), Price = 0},new Template { TemplateName = \"55 inch Corporate TV\", Description = \"55 inch BRAVIA with TEOS Signage license\", ImagePath = \"DigitalSignage\", RawItems = \"FW-55BZ35F/TM|TEM-DS10\", Rank = 2, PurposeID = 4, Items = new List<PricelistItem>(), Price = 0},new Template { TemplateName = \"65 inch Corporate TV\", Description = \"65 inch BRAVIA with TEOS Signage license\", ImagePath = \"DigitalSignage\", RawItems = \"FW-65BZ35F/TM|TEM-DS10\", Rank = 2, PurposeID = 4, Items = new List<PricelistItem>(), Price = 0},new Template { TemplateName = \"75 inch Corporate TV\", Description = \"75 inch BRAVIA with TEOS Signage license\", ImagePath = \"DigitalSignage\", RawItems = \"FW-75BZ35F/TM|TEM-DS10\", Rank = 3, PurposeID = 4, Items = new List<PricelistItem>(), Price = 0},new Template { TemplateName = \"85 inch Corporate TV\", Description = \"85 inch BRAVIA with TEOS Signage license\", ImagePath = \"DigitalSignage\", RawItems = \"FW-85BZ35F/TM|TEM-DS10\", Rank = 3, PurposeID = 4, Items = new List<PricelistItem>(), Price = 0},new Template { TemplateName = \"98 inch Corporate TV\", Description = \"98 inch BRAVIA with TEOS Signage license\", ImagePath = \"DigitalSignage\", RawItems = \"FW-98BZ35F/TM|TEM-DS10\", Rank = 3, PurposeID = 4, Items = new List<PricelistItem>(), Price = 0},new Template { TemplateName = \"43 inch Videowall Dual screen\", Description = \"43 inch BRAVIA with TEOS Signage license\", ImagePath = \"DigitalSignage\", RawItems = \"FW-43BZ35F/TM|TEM-DS10|FW-43BZ35F/TM|TEM-DS10\", Rank = 1, PurposeID = 5, Items = new List<PricelistItem>(), Price = 0},new Template { TemplateName = \"49 inch Videowall Dual screen\", Description = \"49 inch BRAVIA with TEOS Signage license\", ImagePath = \"DigitalSignage\", RawItems = \"FW-49BZ35F/TM|TEM-DS10|FW-49BZ35F/TM|TEM-DS10\", Rank = 1, PurposeID = 5, Items = new List<PricelistItem>(), Price = 0},new Template { TemplateName = \"55 inch Videowall Dual screen\", Description = \"55 inch BRAVIA with TEOS Signage license\", ImagePath = \"DigitalSignage\", RawItems = \"FW-55BZ35F/TM|TEM-DS10|FW-55BZ35F/TM|TEM-DS10\", Rank = 2, PurposeID = 5, Items = new List<PricelistItem>(), Price = 0},new Template { TemplateName = \"65 inch Videowall Dual screen\", Description = \"65 inch BRAVIA with TEOS Signage license\", ImagePath = \"DigitalSignage\", RawItems = \"FW-65BZ35F/TM|TEM-DS10|FW-65BZ35F/TM|TEM-DS10\", Rank = 2, PurposeID = 5, Items = new List<PricelistItem>(), Price = 0},new Template { TemplateName = \"75 inch Videowall Dual screen\", Description = \"75 inch BRAVIA with TEOS Signage license\", ImagePath = \"DigitalSignage\", RawItems = \"FW-75BZ35F/TM|TEM-DS10|FW-75BZ35F/TM|TEM-DS10\", Rank = 3, PurposeID = 5, Items = new List<PricelistItem>(), Price = 0},new Template { TemplateName = \"85 inch Videowall Dual screen\", Description = \"85 inch BRAVIA with TEOS Signage license\", ImagePath = \"DigitalSignage\", RawItems = \"FW-85BZ35F/TM|TEM-DS10|FW-85BZ35F/TM|TEM-DS10\", Rank = 3, PurposeID = 5, Items = new List<PricelistItem>(), Price = 0},new Template { TemplateName = \"98 inch Videowall Dual screen\", Description = \"98 inch BRAVIA with TEOS Signage license\", ImagePath = \"DigitalSignage\", RawItems = \"FW-98BZ35F/TM|TEM-DS10|FW-98BZ35F/TM|TEM-DS10\", Rank = 3, PurposeID = 5, Items = new List<PricelistItem>(), Price = 0},new Template { TemplateName = \"43 inch Room Status\", Description = \"43 inch BRAVIA with TEOS Signage license\", ImagePath = \"DigitalSignage\", RawItems = \"FW-43BZ35F/TM|TEM-DS10\", Rank = 1, PurposeID = 9, Items = new List<PricelistItem>(), Price = 0},new Template { TemplateName = \"49 inch Room Status\", Description = \"49 inch BRAVIA with TEOS Signage license\", ImagePath = \"DigitalSignage\", RawItems = \"FW-49BZ35F/TM|TEM-DS10\", Rank = 1, PurposeID = 9, Items = new List<PricelistItem>(), Price = 0},new Template { TemplateName = \"55 inch Room Status\", Description = \"55 inch BRAVIA with TEOS Signage license\", ImagePath = \"DigitalSignage\", RawItems = \"FW-55BZ35F/TM|TEM-DS10\", Rank = 2, PurposeID = 9, Items = new List<PricelistItem>(), Price = 0},new Template { TemplateName = \"65 inch Room Status\", Description = \"65 inch BRAVIA with TEOS Signage license\", ImagePath = \"DigitalSignage\", RawItems = \"FW-65BZ35F/TM|TEM-DS10\", Rank = 2, PurposeID = 9, Items = new List<PricelistItem>(), Price = 0},new Template { TemplateName = \"75 inch Room Status\", Description = \"75 inch BRAVIA with TEOS Signage license\", ImagePath = \"DigitalSignage\", RawItems = \"FW-75BZ35F/TM|TEM-DS10\", Rank = 3, PurposeID = 9, Items = new List<PricelistItem>(), Price = 0},new Template { TemplateName = \"85 inch Room Status\", Description = \"85 inch BRAVIA with TEOS Signage license\", ImagePath = \"DigitalSignage\", RawItems = \"FW-85BZ35F/TM|TEM-DS10\", Rank = 3, PurposeID = 9, Items = new List<PricelistItem>(), Price = 0},new Template { TemplateName = \"98 inch Room Status\", Description = \"98 inch BRAVIA with TEOS Signage license\", ImagePath = \"DigitalSignage\", RawItems = \"FW-98BZ35F/TM|TEM-DS10\", Rank = 3, PurposeID = 9, Items = new List<PricelistItem>(), Price = 0},new Template { TemplateName = \"43 inch Wayfinding Totem IR\", Description = \"43 inch BRAVIA with TEOS Signage license and IR totem\", ImagePath = \"DigitalSignage\", RawItems = \"FW-43BZ35F/TM|TEM-DS10|TOT-43BZ35F-IR10\", Rank = 2, PurposeID = 1, Items = new List<PricelistItem>(), Price = 0},new Template { TemplateName = \"49 inch Wayfinding Totem IR\", Description = \"49 inch BRAVIA with TEOS Signage license and IR totem\", ImagePath = \"DigitalSignage\", RawItems = \"FW-49BZ35F/TM|TEM-DS10|TOT-49BZ35F-IR10\", Rank = 2, PurposeID = 1, Items = new List<PricelistItem>(), Price = 0},new Template { TemplateName = \"55 inch Wayfinding Totem IR\", Description = \"55 inch BRAVIA with TEOS Signage license and IR totem\", ImagePath = \"DigitalSignage\", RawItems = \"FW-55BZ35F/TM|TEM-DS10|TOT-55BZ35F-IR10\", Rank = 2, PurposeID = 1, Items = new List<PricelistItem>(), Price = 0},new Template { TemplateName = \"65 inch Wayfinding Totem IR\", Description = \"65 inch BRAVIA with TEOS Signage license and IR totem\", ImagePath = \"DigitalSignage\", RawItems = \"FW-65BZ35F/TM|TEM-DS10|TOT-65BZ35F-IR10\", Rank = 2, PurposeID = 1, Items = new List<PricelistItem>(), Price = 0},new Template { TemplateName = \"75 inch Wayfinding Totem IR\", Description = \"75 inch BRAVIA with TEOS Signage license and IR totem\", ImagePath = \"DigitalSignage\", RawItems = \"FW-75BZ35F/TM|TEM-DS10|TOT-75BZ35F-IR10\", Rank = 2, PurposeID = 1, Items = new List<PricelistItem>(), Price = 0},new Template { TemplateName = \"43 inch Wayfinding Totem Capacitive\", Description = \"43 inch BRAVIA with TEOS Signage license and Capacitive totem\", ImagePath = \"DigitalSignage\", RawItems = \"FW-43BZ35F/TM|TEM-DS10|TOT-43BZ35F-CA10\", Rank = 2, PurposeID = 1, Items = new List<PricelistItem>(), Price = 0},new Template { TemplateName = \"49 inch Wayfinding Totem Capacitive\", Description = \"49 inch BRAVIA with TEOS Signage license and Capacitive totem\", ImagePath = \"DigitalSignage\", RawItems = \"FW-49BZ35F/TM|TEM-DS10|TOT-49BZ35F-CA10\", Rank = 2, PurposeID = 1, Items = new List<PricelistItem>(), Price = 0},new Template { TemplateName = \"55 inch Wayfinding Totem Capacitive\", Description = \"55 inch BRAVIA with TEOS Signage license and Capacitive totem\", ImagePath = \"DigitalSignage\", RawItems = \"FW-55BZ35F/TM|TEM-DS10|TOT-55BZ35F-CA10\", Rank = 2, PurposeID = 1, Items = new List<PricelistItem>(), Price = 0},new Template { TemplateName = \"65 inch Wayfinding Totem Capacitive\", Description = \"65 inch BRAVIA with TEOS Signage license and Capacitive totem\", ImagePath = \"DigitalSignage\", RawItems = \"FW-65BZ35F/TM|TEM-DS10|TOT-65BZ35F-CA10\", Rank = 2, PurposeID = 1, Items = new List<PricelistItem>(), Price = 0},new Template { TemplateName = \"75 inch Wayfinding Totem Capacitive\", Description = \"75 inch BRAVIA with TEOS Signage license and Capacitive totem\", ImagePath = \"DigitalSignage\", RawItems = \"FW-75BZ35F/TM|TEM-DS10|TOT-75BZ35F-CA10\", Rank = 2, PurposeID = 1, Items = new List<PricelistItem>(), Price = 0},new Template { TemplateName = \"43 inch Wayfinding Kiosk IR\", Description = \"43 inch BRAVIA with TEOS Signage license and IR touch kiosk\", ImagePath = \"DigitalSignage\", RawItems = \"FW-43BZ35F/TM|TEM-DS10|KIO-43BZ35F-IR10\", Rank = 3, PurposeID = 1, Items = new List<PricelistItem>(), Price = 0},new Template { TemplateName = \"49 inch Wayfinding Kiosk IR\", Description = \"49 inch BRAVIA with TEOS Signage license and IR touch kiosk\", ImagePath = \"DigitalSignage\", RawItems = \"FW-49BZ35F/TM|TEM-DS10|KIO-49BZ35F-IR10\", Rank = 3, PurposeID = 1, Items = new List<PricelistItem>(), Price = 0},new Template { TemplateName = \"55 inch Wayfinding Kiosk IR\", Description = \"55 inch BRAVIA with TEOS Signage license and IR touch kiosk\", ImagePath = \"DigitalSignage\", RawItems = \"FW-55BZ35F/TM|TEM-DS10|KIO-55BZ35F-IR10\", Rank = 3, PurposeID = 1, Items = new List<PricelistItem>(), Price = 0},new Template { TemplateName = \"65 inch Wayfinding Kiosk IR\", Description = \"65 inch BRAVIA with TEOS Signage license and IR touch kiosk\", ImagePath = \"DigitalSignage\", RawItems = \"FW-65BZ35F/TM|TEM-DS10|KIO-65BZ35F-IR10\", Rank = 3, PurposeID = 1, Items = new List<PricelistItem>(), Price = 0},new Template { TemplateName = \"75 inch Wayfinding Kiosk IR\", Description = \"75 inch BRAVIA with TEOS Signage license and IR touch kiosk\", ImagePath = \"DigitalSignage\", RawItems = \"FW-75BZ35F/TM|TEM-DS10|KIO-75BZ35F-IR10\", Rank = 3, PurposeID = 1, Items = new List<PricelistItem>(), Price = 0},new Template { TemplateName = \"43 inch Wayfinding Kiosk Capacitive\", Description = \"43 inch BRAVIA with TEOS Signage license and Capacitive touch kiosk\", ImagePath = \"DigitalSignage\", RawItems = \"FW-43BZ35F/TM|TEM-DS10|KIO-43BZ35F-CA10\", Rank = 3, PurposeID = 1, Items = new List<PricelistItem>(), Price = 0},new Template { TemplateName = \"49 inch Wayfinding Kiosk Capacitive\", Description = \"49 inch BRAVIA with TEOS Signage license and Capacitive touch kiosk\", ImagePath = \"DigitalSignage\", RawItems = \"FW-49BZ35F/TM|TEM-DS10|KIO-49BZ35F-CA10\", Rank = 3, PurposeID = 1, Items = new List<PricelistItem>(), Price = 0},new Template { TemplateName = \"55 inch Wayfinding Kiosk Capacitive\", Description = \"55 inch BRAVIA with TEOS Signage license and Capacitive touch kiosk\", ImagePath = \"DigitalSignage\", RawItems = \"FW-55BZ35F/TM|TEM-DS10|KIO-55BZ35F-CA10\", Rank = 3, PurposeID = 1, Items = new List<PricelistItem>(), Price = 0},new Template { TemplateName = \"65 inch Wayfinding Kiosk Capacitive\", Description = \"65 inch BRAVIA with TEOS Signage license and Capacitive touch kiosk\", ImagePath = \"DigitalSignage\", RawItems = \"FW-65BZ35F/TM|TEM-DS10|KIO-65BZ35F-CA10\", Rank = 3, PurposeID = 1, Items = new List<PricelistItem>(), Price = 0},new Template { TemplateName = \"75 inch Wayfinding Kiosk Capacitive\", Description = \"75 inch BRAVIA with TEOS Signage license and Capacitive touch kiosk\", ImagePath = \"DigitalSignage\", RawItems = \"FW-75BZ35F/TM|TEM-DS10|KIO-75BZ35F-CA10\", Rank = 3, PurposeID = 1, Items = new List<PricelistItem>(), Price = 0},new Template { TemplateName = \"Custom Template (1)\", Description = \"Template Creation for TEOS or one floormap creation for TEOS Wayfinding\", ImagePath = \"nan\", RawItems = \"PSP.CET.TEOSTEMP.1\", Rank = 2, Items = new List<PricelistItem>(), Price = 0},new Template { TemplateName = \"Custom Template (5)\", Description = \"Template Creation for TEOS or one floormap creation for TEOS Wayfinding\", ImagePath = \"nan\", RawItems = \"PSP.CET.TEOSTEMP.1|PSP.CET.TEOSTEMP.1|PSP.CET.TEOSTEMP.1|PSP.CET.TEOSTEMP.1|PSP.CET.TEOSTEMP.1\", Rank = 2, Items = new List<PricelistItem>(), Price = 0},new Template { TemplateName = \"Custom Template (10)\", Description = \"Template Creation for TEOS or one floormap creation for TEOS Wayfinding\", ImagePath = \"nan\", RawItems = \"PSP.CET.TEOSTEMP.1|PSP.CET.TEOSTEMP.1|PSP.CET.TEOSTEMP.1|PSP.CET.TEOSTEMP.1|PSP.CET.TEOSTEMP.1|PSP.CET.TEOSTEMP.1|PSP.CET.TEOSTEMP.1|PSP.CET.TEOSTEMP.1|PSP.CET.TEOSTEMP.1|PSP.CET.TEOSTEMP.1\", Rank = 2, Items = new List<PricelistItem>(), Price = 0},new Template { TemplateName = \"Engineering Support (2h)\", Description = \"Remote Engineering resource\", ImagePath = \"nan\", RawItems = \"PSP.CET.REMOTE.2\", Rank = 2, Items = new List<PricelistItem>(), Price = 0},new Template { TemplateName = \"Engineering Support (1/2 Day)\", Description = \"Remote Engineering resource\", ImagePath = \"nan\", RawItems = \"PSP.CET.REMOTE.2|PSP.CET.REMOTE.2\", Rank = 2, Items = new List<PricelistItem>(), Price = 0},new Template { TemplateName = \"Engineering Support (1 Day)\", Description = \"Remote Engineering resource\", ImagePath = \"nan\", RawItems = \"PSP.CET.REMOTE.2|PSP.CET.REMOTE.2|PSP.CET.REMOTE.2|PSP.CET.REMOTE.2\", Rank = 3, Items = new List<PricelistItem>(), Price = 0},'"
      ]
     },
     "execution_count": 5,
     "metadata": {},
     "output_type": "execute_result"
    }
   ],
   "source": [
    "customStringTemplates = \"\"\n",
    "for j in range(df.index.size):\n",
    "    customStringTemplates += \"new Template { \"\n",
    "    customStringTemplates += \"TemplateName = \\\"\" + str(df.iloc[j]['TemplateName']) + \"\\\", \"\n",
    "    customStringTemplates += \"Description = \\\"\" + str(df.iloc[j]['Description']) + \"\\\", \"\n",
    "    customStringTemplates += \"ImagePath = \\\"\" + str(df.iloc[j]['ImagePath']) + \"\\\", \"\n",
    "    customStringTemplates += \"RawItems = \\\"\" + str(df.iloc[j]['RawItems']) + \"\\\", \"\n",
    "    \n",
    "    if(str(df.iloc[j]['Rank']) == \"Basic\"):\n",
    "        customStringTemplates += \"Rank = 1, \"\n",
    "    elif(str(df.iloc[j]['Rank']) == \"Standard\"):\n",
    "        customStringTemplates += \"Rank = 2, \"\n",
    "    elif(str(df.iloc[j]['Rank']) == \"Premium\"):\n",
    "        customStringTemplates += \"Rank = 3, \"\n",
    "    else:\n",
    "        customStringTemplates += \"\"\n",
    "        \n",
    "    if(str(df.iloc[j]['Workplace Solution']) == \"Wayfinding\"):\n",
    "        customStringTemplates += \"PurposeID = 1, \"\n",
    "    elif(str(df.iloc[j]['Workplace Solution']) == \"Reception\"):\n",
    "        customStringTemplates += \"PurposeID = 2, \"\n",
    "    elif(str(df.iloc[j]['Workplace Solution']) == \"Signage\"):\n",
    "        customStringTemplates += \"PurposeID = 3, \"\n",
    "    elif(str(df.iloc[j]['Workplace Solution']) == \"Corporate TV\"):\n",
    "        customStringTemplates += \"PurposeID = 4, \"\n",
    "    elif(str(df.iloc[j]['Workplace Solution']) == \"Videowall\"):\n",
    "        customStringTemplates += \"PurposeID = 5, \"\n",
    "    elif(str(df.iloc[j]['Workplace Solution']) == \"Survey\"):\n",
    "        customStringTemplates += \"PurposeID = 6, \"\n",
    "    elif(str(df.iloc[j]['Workplace Solution']) == \"Room Booking\"):\n",
    "        customStringTemplates += \"PurposeID = 7, \"\n",
    "    elif(str(df.iloc[j]['Workplace Solution']) == \"Class Check-In\"):\n",
    "        customStringTemplates += \"PurposeID = 8, \"\n",
    "    elif(str(df.iloc[j]['Workplace Solution']) == \"Room Status\"):\n",
    "        customStringTemplates += \"PurposeID = 9, \"\n",
    "    elif(str(df.iloc[j]['Workplace Solution']) == \"Room Control\"):\n",
    "        customStringTemplates += \"PurposeID = 10, \"\n",
    "    elif(str(df.iloc[j]['Workplace Solution']) == \"Meeting Interface\"):\n",
    "        customStringTemplates += \"PurposeID = 11, \"\n",
    "    elif(str(df.iloc[j]['Workplace Solution']) == \"Mirroring\"):\n",
    "        customStringTemplates += \"PurposeID = 12, \"\n",
    "    elif(str(df.iloc[j]['Workplace Solution']) == \"Meeting Display\"):\n",
    "        customStringTemplates += \"PurposeID = 13, \"\n",
    "    elif(str(df.iloc[j]['Workplace Solution']) == \"Mobile\"):\n",
    "        customStringTemplates += \"PurposeID = 14, \"\n",
    "    elif(str(df.iloc[j]['Workplace Solution']) == \"Sensor\"):\n",
    "        customStringTemplates += \"PurposeID = 15, \"\n",
    "    else:\n",
    "        customStringTemplates += \"\"\n",
    "\n",
    "    customStringTemplates += \"Items = new List<PricelistItem>(), Price = 0},\"\n",
    "    \n",
    "    \n",
    "customStringTemplates"
   ]
  },
  {
   "cell_type": "code",
   "execution_count": 6,
   "metadata": {},
   "outputs": [
    {
     "data": {
      "text/plain": [
       "'Sensor'"
      ]
     },
     "execution_count": 6,
     "metadata": {},
     "output_type": "execute_result"
    }
   ],
   "source": [
    "str(df.iloc[3]['Workplace Solution'])"
   ]
  }
 ],
 "metadata": {
  "kernelspec": {
   "display_name": "Python 3",
   "language": "python",
   "name": "python3"
  },
  "language_info": {
   "codemirror_mode": {
    "name": "ipython",
    "version": 3
   },
   "file_extension": ".py",
   "mimetype": "text/x-python",
   "name": "python",
   "nbconvert_exporter": "python",
   "pygments_lexer": "ipython3",
   "version": "3.7.6"
  }
 },
 "nbformat": 4,
 "nbformat_minor": 4
}
